{
 "cells": [
  {
   "cell_type": "code",
   "execution_count": null,
   "outputs": [],
   "source": [
    "from collections import deque\n",
    "import math\n",
    "import csv\n",
    "import cv2 as cv2\n",
    "import numpy as np\n",
    "import mediapipe as mp\n",
    "import itertools\n",
    "from sklearn.metrics import accuracy_score\n",
    "import warnings\n",
    "import joblib\n",
    "import pandas as pd\n",
    "from sklearn.model_selection import train_test_split\n",
    "from sklearn.ensemble import RandomForestClassifier\n",
    "from sklearn.neighbors import KNeighborsClassifier\n",
    "\n",
    "warnings.filterwarnings(\"ignore\")"
   ],
   "metadata": {
    "collapsed": false
   }
  },
  {
   "cell_type": "code",
   "execution_count": null,
   "metadata": {},
   "outputs": [],
   "source": [
    "mp_hands = mp.solutions.hands\n",
    "hands = mp_hands.Hands(model_complexity=0)\n",
    "mp_drawing = mp.solutions.drawing_utils\n",
    "W, H = 160*4, 160*3"
   ]
  },
  {
   "cell_type": "code",
   "execution_count": null,
   "outputs": [],
   "source": [
    "class CvFpsCalc(object):\n",
    "    def __init__(self, buffer_len=10):\n",
    "        self._start_tick = cv2.getTickCount()\n",
    "        self._freq = 1000.0 / cv2.getTickFrequency()\n",
    "        self._difftimes = deque(maxlen=buffer_len)\n",
    "\n",
    "    def get(self):\n",
    "        current_tick = cv2.getTickCount()\n",
    "        different_time = (current_tick - self._start_tick) * self._freq\n",
    "        self._start_tick = current_tick\n",
    "\n",
    "        self._difftimes.append(different_time)\n",
    "\n",
    "        fps = 1000.0 / (sum(self._difftimes) / len(self._difftimes))\n",
    "        fps_rounded = round(fps, 2)\n",
    "\n",
    "        return fps_rounded"
   ],
   "metadata": {
    "collapsed": false
   }
  },
  {
   "cell_type": "code",
   "execution_count": null,
   "metadata": {},
   "outputs": [],
   "source": [
    "def findDistance(a,b):\n",
    "    return math.dist([a.x,a.y,a.z], [b.x,b.y,b.z])"
   ]
  },
  {
   "cell_type": "code",
   "execution_count": null,
   "metadata": {},
   "outputs": [],
   "source": [
    "def calc_landmark_list(image, landmarks):\n",
    "    image_width, image_height = image.shape[1], image.shape[0]\n",
    "\n",
    "    landmark_point = []\n",
    "\n",
    "    # Keypoint\n",
    "    for _, landmark in enumerate(landmarks.landmark):\n",
    "        landmark_x = min(int(landmark.x * image_width), image_width - 1)\n",
    "        landmark_y = min(int(landmark.y * image_height), image_height - 1)\n",
    "        # landmark_z = landmark.z\n",
    "\n",
    "        landmark_point.append([landmark_x, landmark_y])\n",
    "\n",
    "    return landmark_point"
   ]
  },
  {
   "cell_type": "code",
   "execution_count": null,
   "metadata": {},
   "outputs": [],
   "source": [
    "def normalize_points(points):\n",
    "\n",
    "    # Find minimum and maximum x and y values\n",
    "    min_x = min(point[0] for point in points)\n",
    "    max_x = max(point[0] for point in points)\n",
    "    min_y = min(point[1] for point in points)\n",
    "    max_y = max(point[1] for point in points)\n",
    "\n",
    "    # Create a new list of normalized points\n",
    "    normalized_points = []\n",
    "    for point in points:\n",
    "        x_norm = (point[0] - min_x) / (max_x - min_x)\n",
    "        y_norm = (point[1] - min_y) / (max_y - min_y)\n",
    "        normalized_points.append([x_norm * W, y_norm * H])\n",
    "\n",
    "    return normalized_points\n"
   ]
  },
  {
   "cell_type": "code",
   "execution_count": null,
   "metadata": {},
   "outputs": [],
   "source": [
    "def create_landmark_image(landmark_list):\n",
    "    # Get the minimum and maximum x and y coordinates of the landmarks\n",
    "    min_x, max_x = float('inf'), float('-inf')\n",
    "    min_y, max_y = float('inf'), float('-inf')\n",
    "    for landmark in landmark_list:\n",
    "        x, y = landmark\n",
    "        if x < min_x:\n",
    "            min_x = x\n",
    "        if x > max_x:\n",
    "            max_x = x\n",
    "        if y < min_y:\n",
    "            min_y = y\n",
    "        if y > max_y:\n",
    "            max_y = y\n",
    "\n",
    "    # Calculate the size of the image based on the range of x and y coordinates\n",
    "    width = int(max_x - min_x)\n",
    "    height = int(max_y - min_y)\n",
    "\n",
    "    # Create a black image with the calculated size\n",
    "    img = np.zeros((height, width, 1), dtype=\"uint8\")\n",
    "\n",
    "    # Draw white circles for each landmark in the image\n",
    "    for landmark in landmark_list:\n",
    "        x, y = landmark\n",
    "        cv2.circle(img, (int(x - min_x), int(y - min_y)), 5, (255, 255, 255), -1)\n",
    "\n",
    "    return img\n"
   ]
  },
  {
   "cell_type": "code",
   "execution_count": null,
   "outputs": [],
   "source": [
    "def logCsv(key, landmarklist):\n",
    "    if key != -1:\n",
    "        print(chr(key))\n",
    "        with open(\"data.csv\", mode=\"a\", newline=\"\") as f:\n",
    "            writer = csv.writer(f)\n",
    "            writer.writerow([key, *landmarklist])"
   ],
   "metadata": {
    "collapsed": false
   }
  },
  {
   "cell_type": "code",
   "execution_count": null,
   "outputs": [],
   "source": [
    "def shiftNormalized(frame, landmarkList):\n",
    "    # Check if landmarkList is empty or all zeros\n",
    "    if not np.any(landmarkList):\n",
    "        return landmarkList\n",
    "    # Calculate the minimum and maximum coordinates of the landmark points\n",
    "    min_x = np.min([landmark[0] for landmark in landmarkList if landmark[0] > 0])\n",
    "    min_y = np.min([landmark[1] for landmark in landmarkList if landmark[1] > 0])\n",
    "    max_x = np.max([landmark[0] for landmark in landmarkList if landmark[0] > 0])\n",
    "    max_y = np.max([landmark[1] for landmark in landmarkList if landmark[1] > 0])\n",
    "\n",
    "    # Calculate the size of the hand\n",
    "    hand_width = max_x - min_x\n",
    "    hand_height = max_y - min_y\n",
    "\n",
    "    # Shift and scale the landmark points\n",
    "    for landmark in landmarkList:\n",
    "        if landmark[0] > 0 and landmark[1] > 0:\n",
    "            landmark[0] = (landmark[0] - min_x) / hand_width * W\n",
    "            landmark[1] = (landmark[1] - min_y) / hand_height * H\n",
    "\n",
    "    for landmark in landmarkList:\n",
    "        x, y = landmark\n",
    "        cv2.circle(frame, (int(x), int(y)), 5, (255, 255, 255), -1)\n",
    "\n",
    "    return landmarkList"
   ],
   "metadata": {
    "collapsed": false
   }
  },
  {
   "cell_type": "code",
   "execution_count": null,
   "outputs": [],
   "source": [
    "def train():\n",
    "    # Load the data into a pandas DataFrame\n",
    "    df = pd.read_csv('data.csv')\n",
    "\n",
    "    # Split the data into training and testing sets\n",
    "    X_train, X_test, y_train, y_test = train_test_split(df.iloc[:, 1:], df.iloc[:, 0], test_size=0.3, random_state=42)\n",
    "\n",
    "    rfc = RandomForestClassifier(n_estimators=50,\n",
    "                                 max_depth=5,\n",
    "                                 min_samples_split=2,\n",
    "                                 min_samples_leaf=1,\n",
    "                                 max_features='sqrt',\n",
    "                                 bootstrap=True,\n",
    "                                 random_state=42,\n",
    "                                 n_jobs=-1)\n",
    "    # Train the model\n",
    "    rfc.fit(X_train, y_train)\n",
    "\n",
    "    # Create the KNN classifier\n",
    "    knn = KNeighborsClassifier(n_neighbors=10)\n",
    "\n",
    "    # Train the model\n",
    "    knn.fit(X_train, y_train)\n",
    "\n",
    "    # Test the model\n",
    "    knn_pred = knn.predict(X_test)\n",
    "    rfc_pred = rfc.predict(X_test)\n",
    "\n",
    "    # Calculate the accuracy of the model\n",
    "    knn_acc = accuracy_score(y_test, knn_pred)\n",
    "    rfc_acc = accuracy_score(y_test, rfc_pred)\n",
    "\n",
    "    print(\"Knn_accuracy: {:.2f}%\".format(knn_acc * 100))\n",
    "    print(\"Rfc_accuracy: {:.2f}%\".format(rfc_acc * 100))\n",
    "    print()\n",
    "    # Save the trained model to a file\n",
    "    joblib.dump(knn, 'knn_model.joblib')\n",
    "    joblib.dump(rfc, 'rfc_model.joblib')"
   ],
   "metadata": {
    "collapsed": false
   }
  },
  {
   "cell_type": "code",
   "execution_count": null,
   "outputs": [],
   "source": [
    "def calc_bounding_rect(landmarks):\n",
    "    min_x, min_y, max_x, max_y = float('inf'), float('inf'), -float('inf'), -float('inf')\n",
    "    for lm in landmarks.landmark:\n",
    "        x, y = int(lm.x * W), int(lm.y * H)\n",
    "        min_x = min(min_x, x)\n",
    "        min_y = min(min_y, y)\n",
    "        max_x = max(max_x, x)\n",
    "        max_y = max(max_y, y)\n",
    "    return min_x, min_y, max_x - min_x, max_y - min_y\n"
   ],
   "metadata": {
    "collapsed": false
   }
  },
  {
   "cell_type": "code",
   "execution_count": 22,
   "outputs": [],
   "source": [
    "def main():\n",
    "    train()\n",
    "    cap = cv2.VideoCapture(0)\n",
    "    cap.set(cv2.CAP_PROP_FRAME_WIDTH, W)\n",
    "    cap.set(cv2.CAP_PROP_FRAME_HEIGHT, H)\n",
    "\n",
    "    cvFpsCalc = CvFpsCalc()\n",
    "    save_mode = False\n",
    "    # rfc know what it doesn't know\n",
    "    # knn sure even if it doesn't now\n",
    "    clf = joblib.load('rfc_model.joblib')\n",
    "\n",
    "    while True:\n",
    "        key = cv2.waitKey(1)\n",
    "\n",
    "        if key == 27:\n",
    "            break\n",
    "\n",
    "        totalHand = np.zeros((H, W, 3), dtype=np.uint8)\n",
    "\n",
    "        ret, frame = cap.read()\n",
    "        if not ret:\n",
    "            raise Exception(\"Failed at capturing frame\")\n",
    "\n",
    "        frame = cv2.flip(frame, 1)\n",
    "        frame = cv2.cvtColor(frame, cv2.COLOR_BGR2RGB)\n",
    "        frame.flags.writeable = False\n",
    "        results = hands.process(frame)\n",
    "        frame.flags.writeable = True\n",
    "\n",
    "        fps = cvFpsCalc.get()\n",
    "\n",
    "        landmarkList = [[0] * 2 for _ in range(42)]\n",
    "\n",
    "        if results.multi_hand_landmarks:\n",
    "            for hand_landmarks, handedness in zip(results.multi_hand_landmarks, results.multi_handedness):\n",
    "                mp_drawing.draw_landmarks(frame, hand_landmarks, mp_hands.HAND_CONNECTIONS)\n",
    "                mp_drawing.draw_landmarks(totalHand, hand_landmarks, mp_hands.HAND_CONNECTIONS)\n",
    "\n",
    "                if handedness.classification[0].label == 'Left':\n",
    "                    # Update first 21 elements for left hand landmarks\n",
    "                    for i, lm in enumerate(hand_landmarks.landmark):\n",
    "                        landmarkList[i][0] = lm.x * W\n",
    "                        landmarkList[i][1] = lm.y * H\n",
    "                if handedness.classification[0].label == 'Right':\n",
    "                    # Update last 21 elements for right hand landmarks\n",
    "                    for i, lm in enumerate(hand_landmarks.landmark):\n",
    "                        landmarkList[i+21][0] = lm.x * W\n",
    "                        landmarkList[i+21][1] = lm.y * H\n",
    "\n",
    "        landmarkList = shiftNormalized(totalHand, landmarkList)\n",
    "        cv2.rectangle(frame, (0,0), (200,40), (245,100,50), -1)\n",
    "        cv2.putText(frame, f\"FPS: {fps}\", (10, 30), cv2.FONT_HERSHEY_SIMPLEX,\n",
    "                   1.0, (255, 255, 255), 4, cv2.LINE_AA)\n",
    "\n",
    "        oneDimLandmarks = list(itertools.chain(*landmarkList))\n",
    "\n",
    "        if save_mode:\n",
    "            logCsv(key, oneDimLandmarks)\n",
    "\n",
    "        frame = cv2.cvtColor(frame, cv2.COLOR_RGB2BGR)\n",
    "\n",
    "        if key == 13:\n",
    "            save_mode = True\n",
    "\n",
    "        prediction = clf.predict_proba(np.array(oneDimLandmarks).reshape(1, -1))[0]\n",
    "        max_prob_idx = np.argmax(prediction)\n",
    "        max_prob = prediction[max_prob_idx]\n",
    "\n",
    "        if results.multi_hand_landmarks:\n",
    "            for hand_landmarks, handedness in zip(results.multi_hand_landmarks, results.multi_handedness):\n",
    "                if handedness.classification[0].label == 'Right':\n",
    "                    hand_landmarks = results.multi_hand_landmarks[0]\n",
    "                    brect = calc_bounding_rect(hand_landmarks)\n",
    "\n",
    "                    # Add the predicted letter and probability to the bounding box\n",
    "                    text = f\"{chr(max_prob_idx + 97)} (%{max_prob*100:.2f})\"\n",
    "                    cv2.putText(frame, text, (brect[0] + 10, brect[1] - 10), cv2.FONT_HERSHEY_SIMPLEX, 1, (255, 255, 255), 2)\n",
    "\n",
    "\n",
    "        cv2.imshow(\"totalHands\", totalHand)\n",
    "        cv2.imshow('Hand State Detection', frame)\n",
    "\n",
    "    cap.release()\n",
    "    cv2.destroyAllWindows()"
   ],
   "metadata": {
    "collapsed": false
   }
  },
  {
   "cell_type": "code",
   "execution_count": 23,
   "outputs": [
    {
     "name": "stdout",
     "output_type": "stream",
     "text": [
      "Knn_accuracy: 100.00%\n",
      "Rfc_accuracy: 100.00%\n",
      "\n",
      "Thu Apr  6 01:49:43 2023    stats\n",
      "\n",
      "         729428 function calls (701428 primitive calls) in 10.533 seconds\n",
      "\n",
      "   Ordered by: cumulative time\n",
      "   List reduced from 1195 to 5 due to restriction <5>\n",
      "\n",
      "   ncalls  tottime  percall  cumtime  percall filename:lineno(function)\n",
      "        1    0.000    0.000   10.534   10.534 {built-in method builtins.exec}\n",
      "        1    0.170    0.170   10.533   10.533 /tmp/ipykernel_6878/1816248267.py:1(main)\n",
      "       96    0.001    0.000    5.436    0.057 /home/berat/Code/venv/lib/python3.10/site-packages/mediapipe/python/solutions/hands.py:132(process)\n",
      "       96    5.388    0.056    5.435    0.057 /home/berat/Code/venv/lib/python3.10/site-packages/mediapipe/python/solution_base.py:298(process)\n",
      "       98    0.001    0.000    2.559    0.026 /home/berat/Code/venv/lib/python3.10/site-packages/sklearn/utils/parallel.py:40(__call__)\n",
      "\n",
      "\n"
     ]
    }
   ],
   "source": [
    "import cProfile\n",
    "import pstats\n",
    "\n",
    "if __name__ == '__main__':\n",
    "    cProfile.run('main()', 'stats')\n",
    "    p = pstats.Stats('stats')\n",
    "    p.sort_stats('cumtime').print_stats(5)\n"
   ],
   "metadata": {
    "collapsed": false
   }
  },
  {
   "cell_type": "markdown",
   "source": [
    "<img src='asl.png' width='650' >\n",
    "\n",
    "Right   : A B C D E\n",
    "\n",
    "Left    :\n"
   ],
   "metadata": {
    "collapsed": false
   }
  },
  {
   "cell_type": "code",
   "execution_count": 20,
   "outputs": [
    {
     "name": "stdout",
     "output_type": "stream",
     "text": [
      "[97, 98, 99, 100, 101, 102]\n",
      "a 250\n",
      "b 250\n",
      "c 250\n",
      "d 250\n",
      "e 250\n",
      "f 250\n"
     ]
    }
   ],
   "source": [
    "df = pd.read_csv('data.csv', header=None)\n",
    "l = list(df.groupby(0)[1].count().index)\n",
    "print(l)\n",
    "for i in l:\n",
    "    print(chr(i), (df[0] == i).sum())"
   ],
   "metadata": {
    "collapsed": false
   }
  },
  {
   "cell_type": "markdown",
   "source": [
    "rnn\n",
    "lstm++\n",
    "humanization recognition++"
   ],
   "metadata": {
    "collapsed": false
   }
  },
  {
   "cell_type": "code",
   "execution_count": null,
   "outputs": [],
   "source": [],
   "metadata": {
    "collapsed": false
   }
  }
 ],
 "metadata": {
  "kernelspec": {
   "display_name": "Python 3 (ipykernel)",
   "language": "python",
   "name": "python3"
  },
  "language_info": {
   "codemirror_mode": {
    "name": "ipython",
    "version": 3
   },
   "file_extension": ".py",
   "mimetype": "text/x-python",
   "name": "python",
   "nbconvert_exporter": "python",
   "pygments_lexer": "ipython3",
   "version": "3.10.6"
  }
 },
 "nbformat": 4,
 "nbformat_minor": 1
}
